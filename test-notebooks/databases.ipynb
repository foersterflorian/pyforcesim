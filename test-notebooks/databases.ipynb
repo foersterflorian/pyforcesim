{
 "cells": [
  {
   "cell_type": "code",
   "execution_count": 1,
   "id": "21ccbbc4-5624-4331-947f-b2aba409f982",
   "metadata": {},
   "outputs": [],
   "source": [
    "%load_ext autoreload\n",
    "%autoreload 2"
   ]
  },
  {
   "cell_type": "code",
   "execution_count": null,
   "id": "095a1e17-fe61-4909-b0ec-273f5cd369a6",
   "metadata": {},
   "outputs": [],
   "source": []
  },
  {
   "cell_type": "markdown",
   "id": "8559c8a3-2c7e-4b26-8e6f-2f520c5d1ff9",
   "metadata": {},
   "source": [
    "---\n",
    "\n",
    "# SQLAlchemy"
   ]
  },
  {
   "cell_type": "code",
   "execution_count": 2,
   "id": "bbba8e58-ece9-482b-ba07-1356351280a7",
   "metadata": {},
   "outputs": [],
   "source": [
    "import sqlalchemy as sql"
   ]
  },
  {
   "cell_type": "code",
   "execution_count": 3,
   "id": "bdd66cda-1a77-4488-9fe3-e5619597ebb3",
   "metadata": {},
   "outputs": [
    {
     "data": {
      "text/plain": [
       "'2.0.31'"
      ]
     },
     "execution_count": 3,
     "metadata": {},
     "output_type": "execute_result"
    }
   ],
   "source": [
    "sql.__version__"
   ]
  },
  {
   "cell_type": "code",
   "execution_count": 4,
   "id": "51555c75-a9df-46d6-a8f0-4f6f9dd02766",
   "metadata": {},
   "outputs": [],
   "source": [
    "from sqlalchemy import create_engine, text\n",
    "engine = create_engine(\"sqlite:///:memory:\", echo=True)"
   ]
  },
  {
   "cell_type": "code",
   "execution_count": 5,
   "id": "c4268519-0057-4f85-9d6c-920ab6b36c04",
   "metadata": {},
   "outputs": [],
   "source": [
    "from sqlalchemy import MetaData\n",
    "metadata_obj = MetaData()"
   ]
  },
  {
   "cell_type": "code",
   "execution_count": 6,
   "id": "3306cf1c-6b03-4d7e-b108-150a62a656ff",
   "metadata": {},
   "outputs": [],
   "source": [
    "from sqlalchemy import Table, Column, Integer, String\n",
    "user_table = Table(\n",
    "    \"user_account\",\n",
    "    metadata_obj,\n",
    "    Column(\"id\", Integer, primary_key=True),\n",
    "    Column(\"name\", String(30)),\n",
    "    Column(\"fullname\", String),\n",
    ")"
   ]
  },
  {
   "cell_type": "code",
   "execution_count": 7,
   "id": "4fb96a1d-dedb-4475-b130-ad5073bc4b9a",
   "metadata": {},
   "outputs": [
    {
     "data": {
      "text/plain": [
       "['id', 'name', 'fullname']"
      ]
     },
     "execution_count": 7,
     "metadata": {},
     "output_type": "execute_result"
    }
   ],
   "source": [
    "user_table.c.keys()"
   ]
  },
  {
   "cell_type": "code",
   "execution_count": 8,
   "id": "f9ced097-8f92-4bcc-bfb7-9d5859842c37",
   "metadata": {},
   "outputs": [
    {
     "data": {
      "text/plain": [
       "PrimaryKeyConstraint(Column('id', Integer(), table=<user_account>, primary_key=True, nullable=False))"
      ]
     },
     "execution_count": 8,
     "metadata": {},
     "output_type": "execute_result"
    }
   ],
   "source": [
    "user_table.primary_key"
   ]
  },
  {
   "cell_type": "code",
   "execution_count": 9,
   "id": "131c9a34-ae5f-49fa-9695-12a34a249539",
   "metadata": {},
   "outputs": [],
   "source": [
    "from sqlalchemy import ForeignKey\n",
    "address_table = Table(\n",
    "    \"address\",\n",
    "    metadata_obj,\n",
    "    Column(\"id\", Integer, primary_key=True),\n",
    "    Column(\"user_id\", ForeignKey(\"user_account.id\"), nullable=False),\n",
    "    Column(\"email_address\", String, nullable=False),\n",
    ")"
   ]
  },
  {
   "cell_type": "code",
   "execution_count": 12,
   "id": "25f83a91-bb96-44f6-b2a4-e4b65bf3d0fc",
   "metadata": {},
   "outputs": [
    {
     "name": "stdout",
     "output_type": "stream",
     "text": [
      "2024-07-04 12:39:41,784 INFO sqlalchemy.engine.Engine BEGIN (implicit)\n",
      "2024-07-04 12:39:41,785 INFO sqlalchemy.engine.Engine PRAGMA main.table_info(\"user_account\")\n",
      "2024-07-04 12:39:41,786 INFO sqlalchemy.engine.Engine [raw sql] ()\n",
      "2024-07-04 12:39:41,787 INFO sqlalchemy.engine.Engine PRAGMA main.table_info(\"address\")\n",
      "2024-07-04 12:39:41,788 INFO sqlalchemy.engine.Engine [raw sql] ()\n",
      "2024-07-04 12:39:41,789 INFO sqlalchemy.engine.Engine \n",
      "DROP TABLE address\n",
      "2024-07-04 12:39:41,789 INFO sqlalchemy.engine.Engine [no key 0.00077s] ()\n",
      "2024-07-04 12:39:41,790 INFO sqlalchemy.engine.Engine \n",
      "DROP TABLE user_account\n",
      "2024-07-04 12:39:41,791 INFO sqlalchemy.engine.Engine [no key 0.00092s] ()\n",
      "2024-07-04 12:39:41,792 INFO sqlalchemy.engine.Engine COMMIT\n"
     ]
    }
   ],
   "source": [
    "metadata_obj.drop_all(engine)"
   ]
  },
  {
   "cell_type": "code",
   "execution_count": 13,
   "id": "c015dacf-4d84-4d4e-ae1e-b6ae42f06296",
   "metadata": {},
   "outputs": [
    {
     "name": "stdout",
     "output_type": "stream",
     "text": [
      "2024-07-04 12:39:48,936 INFO sqlalchemy.engine.Engine BEGIN (implicit)\n",
      "2024-07-04 12:39:48,937 INFO sqlalchemy.engine.Engine PRAGMA main.table_info(\"user_account\")\n",
      "2024-07-04 12:39:48,937 INFO sqlalchemy.engine.Engine [raw sql] ()\n",
      "2024-07-04 12:39:48,939 INFO sqlalchemy.engine.Engine PRAGMA temp.table_info(\"user_account\")\n",
      "2024-07-04 12:39:48,940 INFO sqlalchemy.engine.Engine [raw sql] ()\n",
      "2024-07-04 12:39:48,940 INFO sqlalchemy.engine.Engine PRAGMA main.table_info(\"address\")\n",
      "2024-07-04 12:39:48,941 INFO sqlalchemy.engine.Engine [raw sql] ()\n",
      "2024-07-04 12:39:48,942 INFO sqlalchemy.engine.Engine PRAGMA temp.table_info(\"address\")\n",
      "2024-07-04 12:39:48,942 INFO sqlalchemy.engine.Engine [raw sql] ()\n",
      "2024-07-04 12:39:48,943 INFO sqlalchemy.engine.Engine \n",
      "CREATE TABLE user_account (\n",
      "\tid INTEGER NOT NULL, \n",
      "\tname VARCHAR(30), \n",
      "\tfullname VARCHAR, \n",
      "\tPRIMARY KEY (id)\n",
      ")\n",
      "\n",
      "\n",
      "2024-07-04 12:39:48,943 INFO sqlalchemy.engine.Engine [no key 0.00041s] ()\n",
      "2024-07-04 12:39:48,944 INFO sqlalchemy.engine.Engine \n",
      "CREATE TABLE address (\n",
      "\tid INTEGER NOT NULL, \n",
      "\tuser_id INTEGER NOT NULL, \n",
      "\temail_address VARCHAR NOT NULL, \n",
      "\tPRIMARY KEY (id), \n",
      "\tFOREIGN KEY(user_id) REFERENCES user_account (id)\n",
      ")\n",
      "\n",
      "\n",
      "2024-07-04 12:39:48,944 INFO sqlalchemy.engine.Engine [no key 0.00047s] ()\n",
      "2024-07-04 12:39:48,946 INFO sqlalchemy.engine.Engine COMMIT\n"
     ]
    }
   ],
   "source": [
    "metadata_obj.create_all(engine)"
   ]
  },
  {
   "cell_type": "code",
   "execution_count": 18,
   "id": "962ca53c-6af1-4884-801a-d24f169c80ba",
   "metadata": {},
   "outputs": [],
   "source": [
    "from sqlalchemy import insert\n",
    "stmt = insert(user_table).values(id=2, name=\"spongebob\", fullname=\"Spongebob Squarepants\")"
   ]
  },
  {
   "cell_type": "code",
   "execution_count": 19,
   "id": "80156398-b50e-4512-886a-a096f71e6ffe",
   "metadata": {},
   "outputs": [
    {
     "name": "stdout",
     "output_type": "stream",
     "text": [
      "INSERT INTO user_account (id, name, fullname) VALUES (:id, :name, :fullname)\n"
     ]
    }
   ],
   "source": [
    "print(stmt)"
   ]
  },
  {
   "cell_type": "code",
   "execution_count": 20,
   "id": "037c7c25-1de4-4786-b2ce-96bbb02733ba",
   "metadata": {},
   "outputs": [
    {
     "name": "stdout",
     "output_type": "stream",
     "text": [
      "2024-07-04 12:41:49,872 INFO sqlalchemy.engine.Engine BEGIN (implicit)\n",
      "2024-07-04 12:41:49,873 INFO sqlalchemy.engine.Engine INSERT INTO user_account (id, name, fullname) VALUES (?, ?, ?)\n",
      "2024-07-04 12:41:49,873 INFO sqlalchemy.engine.Engine [generated in 0.00170s] (2, 'spongebob', 'Spongebob Squarepants')\n",
      "2024-07-04 12:41:49,874 INFO sqlalchemy.engine.Engine COMMIT\n"
     ]
    }
   ],
   "source": [
    "with engine.connect() as conn:\n",
    "    result = conn.execute(stmt)\n",
    "    conn.commit()"
   ]
  },
  {
   "cell_type": "code",
   "execution_count": 21,
   "id": "a7a5cc46-ceca-40e9-9796-278feeacb1f9",
   "metadata": {},
   "outputs": [
    {
     "data": {
      "text/plain": [
       "(2,)"
      ]
     },
     "execution_count": 21,
     "metadata": {},
     "output_type": "execute_result"
    }
   ],
   "source": [
    "result.inserted_primary_key"
   ]
  },
  {
   "cell_type": "code",
   "execution_count": 23,
   "id": "325c43e1-62f1-436b-aeeb-65a8b0188938",
   "metadata": {},
   "outputs": [
    {
     "name": "stdout",
     "output_type": "stream",
     "text": [
      "2024-07-04 12:47:19,016 INFO sqlalchemy.engine.Engine BEGIN (implicit)\n",
      "2024-07-04 12:47:19,016 INFO sqlalchemy.engine.Engine INSERT INTO user_account (id, name, fullname) VALUES (?, ?, ?)\n",
      "2024-07-04 12:47:19,017 INFO sqlalchemy.engine.Engine [cached since 15.82s ago] [(3, 'sandy', 'Sandy Cheeks'), (4, 'patrick', 'Patrick Star')]\n",
      "2024-07-04 12:47:19,018 INFO sqlalchemy.engine.Engine COMMIT\n"
     ]
    }
   ],
   "source": [
    "with engine.connect() as conn:\n",
    "    result = conn.execute(\n",
    "        insert(user_table),\n",
    "        [\n",
    "            {'id': 3, \"name\": \"sandy\", \"fullname\": \"Sandy Cheeks\"},\n",
    "            {'id': 4, \"name\": \"patrick\", \"fullname\": \"Patrick Star\"},\n",
    "        ],\n",
    "    )\n",
    "    conn.commit()"
   ]
  },
  {
   "cell_type": "code",
   "execution_count": 24,
   "id": "35ef4750-4b98-490d-b9c4-8ff46a2d3586",
   "metadata": {},
   "outputs": [
    {
     "name": "stdout",
     "output_type": "stream",
     "text": [
      "2024-07-04 12:54:30,951 INFO sqlalchemy.engine.Engine BEGIN (implicit)\n",
      "2024-07-04 12:54:30,952 INFO sqlalchemy.engine.Engine INSERT INTO address (user_id, email_address) VALUES ((SELECT user_account.id \n",
      "FROM user_account \n",
      "WHERE user_account.name = ?), ?)\n",
      "2024-07-04 12:54:30,953 INFO sqlalchemy.engine.Engine [generated in 0.00153s] [('spongebob', 'spongebob@sqlalchemy.org'), ('sandy', 'sandy@sqlalchemy.org'), ('sandy', 'sandy@squirrelpower.org')]\n",
      "2024-07-04 12:54:30,954 INFO sqlalchemy.engine.Engine COMMIT\n"
     ]
    }
   ],
   "source": [
    "from sqlalchemy import select, bindparam\n",
    "scalar_subq = (\n",
    "    select(user_table.c.id)\n",
    "    .where(user_table.c.name == bindparam(\"username\"))\n",
    "    .scalar_subquery()\n",
    ")\n",
    "\n",
    "with engine.connect() as conn:\n",
    "    result = conn.execute(\n",
    "        insert(address_table).values(user_id=scalar_subq),\n",
    "        [\n",
    "            {\n",
    "                \"username\": \"spongebob\",\n",
    "                \"email_address\": \"spongebob@sqlalchemy.org\",\n",
    "            },\n",
    "            {\"username\": \"sandy\", \"email_address\": \"sandy@sqlalchemy.org\"},\n",
    "            {\"username\": \"sandy\", \"email_address\": \"sandy@squirrelpower.org\"},\n",
    "        ],\n",
    "    )\n",
    "    conn.commit()"
   ]
  },
  {
   "cell_type": "code",
   "execution_count": 26,
   "id": "21c22eb9-4800-477c-a259-23a113b1603d",
   "metadata": {},
   "outputs": [],
   "source": [
    "stmt = select(user_table).where(user_table.c.name == \"spongebob\")"
   ]
  },
  {
   "cell_type": "code",
   "execution_count": 28,
   "id": "38e741cc-c84b-4426-8f2b-c48f92d310f2",
   "metadata": {},
   "outputs": [
    {
     "name": "stdout",
     "output_type": "stream",
     "text": [
      "2024-07-04 13:06:33,303 INFO sqlalchemy.engine.Engine BEGIN (implicit)\n",
      "2024-07-04 13:06:33,304 INFO sqlalchemy.engine.Engine SELECT user_account.id, user_account.name, user_account.fullname \n",
      "FROM user_account \n",
      "WHERE user_account.name = ?\n",
      "2024-07-04 13:06:33,305 INFO sqlalchemy.engine.Engine [cached since 30.57s ago] ('spongebob',)\n",
      "2\n",
      "2024-07-04 13:06:33,305 INFO sqlalchemy.engine.Engine ROLLBACK\n"
     ]
    }
   ],
   "source": [
    "with engine.connect() as conn:\n",
    "    for row in conn.execute(stmt):\n",
    "        print(row.id)"
   ]
  },
  {
   "cell_type": "code",
   "execution_count": 29,
   "id": "75995510-daa8-49f3-a2a7-d6325d8d862c",
   "metadata": {},
   "outputs": [
    {
     "name": "stdout",
     "output_type": "stream",
     "text": [
      "SELECT user_account.name, user_account.fullname \n",
      "FROM user_account\n"
     ]
    }
   ],
   "source": [
    "print(select(user_table.c.name, user_table.c.fullname))"
   ]
  },
  {
   "cell_type": "code",
   "execution_count": 30,
   "id": "f804c8f2-aed1-4223-81ec-be9bb9565ef6",
   "metadata": {},
   "outputs": [
    {
     "name": "stdout",
     "output_type": "stream",
     "text": [
      "SELECT user_account.name \n",
      "FROM user_account\n"
     ]
    }
   ],
   "source": [
    "print(select(user_table.c.name))"
   ]
  },
  {
   "cell_type": "code",
   "execution_count": 31,
   "id": "fa60b24b-cce0-400c-8881-85f337f41798",
   "metadata": {},
   "outputs": [
    {
     "name": "stdout",
     "output_type": "stream",
     "text": [
      "SELECT user_account.name, address.email_address \n",
      "FROM user_account, address\n"
     ]
    }
   ],
   "source": [
    "print(select(user_table.c.name, address_table.c.email_address))"
   ]
  },
  {
   "cell_type": "code",
   "execution_count": null,
   "id": "7455a678-f2ed-4c2f-ad6c-c265a39f2ab2",
   "metadata": {},
   "outputs": [],
   "source": []
  }
 ],
 "metadata": {
  "kernelspec": {
   "display_name": "Python 3 (ipykernel)",
   "language": "python",
   "name": "python3"
  },
  "language_info": {
   "codemirror_mode": {
    "name": "ipython",
    "version": 3
   },
   "file_extension": ".py",
   "mimetype": "text/x-python",
   "name": "python",
   "nbconvert_exporter": "python",
   "pygments_lexer": "ipython3",
   "version": "3.11.9"
  }
 },
 "nbformat": 4,
 "nbformat_minor": 5
}
