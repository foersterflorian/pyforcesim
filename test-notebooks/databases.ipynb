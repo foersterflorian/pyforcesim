{
 "cells": [
  {
   "cell_type": "code",
   "execution_count": 1,
   "id": "21ccbbc4-5624-4331-947f-b2aba409f982",
   "metadata": {},
   "outputs": [],
   "source": [
    "%load_ext autoreload\n",
    "%autoreload 2"
   ]
  },
  {
   "cell_type": "code",
   "execution_count": null,
   "id": "095a1e17-fe61-4909-b0ec-273f5cd369a6",
   "metadata": {},
   "outputs": [],
   "source": []
  },
  {
   "cell_type": "markdown",
   "id": "8559c8a3-2c7e-4b26-8e6f-2f520c5d1ff9",
   "metadata": {},
   "source": [
    "---\n",
    "\n",
    "# SQLAlchemy"
   ]
  },
  {
   "cell_type": "code",
   "execution_count": 1,
   "id": "bbba8e58-ece9-482b-ba07-1356351280a7",
   "metadata": {},
   "outputs": [],
   "source": [
    "import sqlalchemy as sql"
   ]
  },
  {
   "cell_type": "code",
   "execution_count": 2,
   "id": "bdd66cda-1a77-4488-9fe3-e5619597ebb3",
   "metadata": {},
   "outputs": [
    {
     "data": {
      "text/plain": [
       "'2.0.31'"
      ]
     },
     "execution_count": 2,
     "metadata": {},
     "output_type": "execute_result"
    }
   ],
   "source": [
    "sql.__version__"
   ]
  },
  {
   "cell_type": "code",
   "execution_count": 3,
   "id": "51555c75-a9df-46d6-a8f0-4f6f9dd02766",
   "metadata": {},
   "outputs": [],
   "source": [
    "from sqlalchemy import create_engine, text\n",
    "engine = create_engine(\"sqlite:///:memory:\", echo=True)"
   ]
  },
  {
   "cell_type": "code",
   "execution_count": 29,
   "id": "c4268519-0057-4f85-9d6c-920ab6b36c04",
   "metadata": {},
   "outputs": [],
   "source": [
    "from sqlalchemy import MetaData\n",
    "metadata_obj = MetaData()"
   ]
  },
  {
   "cell_type": "code",
   "execution_count": 30,
   "id": "3306cf1c-6b03-4d7e-b108-150a62a656ff",
   "metadata": {},
   "outputs": [],
   "source": [
    "from sqlalchemy import Table, Column, Integer, String, DateTime, Interval\n",
    "user_table = Table(\n",
    "    \"user_account\",\n",
    "    metadata_obj,\n",
    "    Column(\"id\", Integer, primary_key=True),\n",
    "    Column(\"name\", String(30)),\n",
    "    Column(\"fullname\", String),\n",
    "    Column('date', DateTime),\n",
    "    Column('delta', Interval),\n",
    ")"
   ]
  },
  {
   "cell_type": "code",
   "execution_count": 31,
   "id": "4fb96a1d-dedb-4475-b130-ad5073bc4b9a",
   "metadata": {},
   "outputs": [
    {
     "data": {
      "text/plain": [
       "['id', 'name', 'fullname', 'date', 'delta']"
      ]
     },
     "execution_count": 31,
     "metadata": {},
     "output_type": "execute_result"
    }
   ],
   "source": [
    "user_table.c.keys()"
   ]
  },
  {
   "cell_type": "code",
   "execution_count": 9,
   "id": "f9ced097-8f92-4bcc-bfb7-9d5859842c37",
   "metadata": {},
   "outputs": [
    {
     "data": {
      "text/plain": [
       "PrimaryKeyConstraint(Column('id', Integer(), table=<user_account>, primary_key=True, nullable=False))"
      ]
     },
     "execution_count": 9,
     "metadata": {},
     "output_type": "execute_result"
    }
   ],
   "source": [
    "user_table.primary_key"
   ]
  },
  {
   "cell_type": "code",
   "execution_count": 9,
   "id": "131c9a34-ae5f-49fa-9695-12a34a249539",
   "metadata": {},
   "outputs": [],
   "source": [
    "from sqlalchemy import ForeignKey\n",
    "address_table = Table(\n",
    "    \"address\",\n",
    "    metadata_obj,\n",
    "    Column(\"id\", Integer, primary_key=True),\n",
    "    Column(\"user_id\", ForeignKey(\"user_account.id\"), nullable=False),\n",
    "    Column(\"email_address\", String, nullable=False),\n",
    ")"
   ]
  },
  {
   "cell_type": "code",
   "execution_count": 27,
   "id": "25f83a91-bb96-44f6-b2a4-e4b65bf3d0fc",
   "metadata": {},
   "outputs": [
    {
     "name": "stdout",
     "output_type": "stream",
     "text": [
      "2024-07-08 14:04:53,056 INFO sqlalchemy.engine.Engine BEGIN (implicit)\n",
      "2024-07-08 14:04:53,057 INFO sqlalchemy.engine.Engine PRAGMA main.table_info(\"user_account\")\n",
      "2024-07-08 14:04:53,057 INFO sqlalchemy.engine.Engine [raw sql] ()\n",
      "2024-07-08 14:04:53,059 INFO sqlalchemy.engine.Engine \n",
      "DROP TABLE user_account\n",
      "2024-07-08 14:04:53,059 INFO sqlalchemy.engine.Engine [no key 0.00060s] ()\n",
      "2024-07-08 14:04:53,060 INFO sqlalchemy.engine.Engine COMMIT\n"
     ]
    }
   ],
   "source": [
    "metadata_obj.drop_all(engine)"
   ]
  },
  {
   "cell_type": "code",
   "execution_count": 32,
   "id": "c015dacf-4d84-4d4e-ae1e-b6ae42f06296",
   "metadata": {},
   "outputs": [
    {
     "name": "stdout",
     "output_type": "stream",
     "text": [
      "2024-07-08 14:05:38,651 INFO sqlalchemy.engine.Engine BEGIN (implicit)\n",
      "2024-07-08 14:05:38,652 INFO sqlalchemy.engine.Engine PRAGMA main.table_info(\"user_account\")\n",
      "2024-07-08 14:05:38,653 INFO sqlalchemy.engine.Engine [raw sql] ()\n",
      "2024-07-08 14:05:38,654 INFO sqlalchemy.engine.Engine PRAGMA temp.table_info(\"user_account\")\n",
      "2024-07-08 14:05:38,655 INFO sqlalchemy.engine.Engine [raw sql] ()\n",
      "2024-07-08 14:05:38,656 INFO sqlalchemy.engine.Engine \n",
      "CREATE TABLE user_account (\n",
      "\tid INTEGER NOT NULL, \n",
      "\tname VARCHAR(30), \n",
      "\tfullname VARCHAR, \n",
      "\tdate DATETIME, \n",
      "\tdelta DATETIME, \n",
      "\tPRIMARY KEY (id)\n",
      ")\n",
      "\n",
      "\n",
      "2024-07-08 14:05:38,656 INFO sqlalchemy.engine.Engine [no key 0.00041s] ()\n",
      "2024-07-08 14:05:38,657 INFO sqlalchemy.engine.Engine COMMIT\n"
     ]
    }
   ],
   "source": [
    "metadata_obj.create_all(engine)"
   ]
  },
  {
   "cell_type": "code",
   "execution_count": 46,
   "id": "6e7dce23-0de6-4a6d-a49f-9d9af14bf98e",
   "metadata": {},
   "outputs": [
    {
     "data": {
      "text/plain": [
       "datetime.datetime(2024, 7, 8, 12, 7, 28, 13392, tzinfo=datetime.timezone.utc)"
      ]
     },
     "execution_count": 46,
     "metadata": {},
     "output_type": "execute_result"
    }
   ],
   "source": [
    "import datetime\n",
    "\n",
    "dt = datetime.datetime.now(tz=datetime.UTC)\n",
    "dt"
   ]
  },
  {
   "cell_type": "code",
   "execution_count": 47,
   "id": "72e6045c-dada-4b27-a92a-b0b6d530d3a7",
   "metadata": {},
   "outputs": [],
   "source": [
    "td = datetime.timedelta(hours=3)"
   ]
  },
  {
   "cell_type": "code",
   "execution_count": 48,
   "id": "962ca53c-6af1-4884-801a-d24f169c80ba",
   "metadata": {},
   "outputs": [],
   "source": [
    "from sqlalchemy import insert, select\n",
    "stmt = insert(user_table).values(id=2, name=\"spongebob\", fullname=\"Spongebob Squarepants\", date=dt, delta=td)"
   ]
  },
  {
   "cell_type": "code",
   "execution_count": 49,
   "id": "80156398-b50e-4512-886a-a096f71e6ffe",
   "metadata": {},
   "outputs": [
    {
     "name": "stdout",
     "output_type": "stream",
     "text": [
      "INSERT INTO user_account (id, name, fullname, date, delta) VALUES (:id, :name, :fullname, :date, :delta)\n"
     ]
    }
   ],
   "source": [
    "print(stmt)"
   ]
  },
  {
   "cell_type": "code",
   "execution_count": 51,
   "id": "6f850cbe-04d3-4ff6-82b3-96ac545ed2c1",
   "metadata": {},
   "outputs": [],
   "source": [
    "stmt = select(user_table.c.date, user_table.c.delta)"
   ]
  },
  {
   "cell_type": "code",
   "execution_count": 52,
   "id": "037c7c25-1de4-4786-b2ce-96bbb02733ba",
   "metadata": {},
   "outputs": [
    {
     "name": "stdout",
     "output_type": "stream",
     "text": [
      "2024-07-08 14:07:34,565 INFO sqlalchemy.engine.Engine BEGIN (implicit)\n",
      "2024-07-08 14:07:34,566 INFO sqlalchemy.engine.Engine SELECT user_account.date, user_account.delta \n",
      "FROM user_account\n",
      "2024-07-08 14:07:34,567 INFO sqlalchemy.engine.Engine [cached since 19.24s ago] ()\n",
      "2024-07-08 14:07:34,568 INFO sqlalchemy.engine.Engine COMMIT\n"
     ]
    }
   ],
   "source": [
    "with engine.connect() as conn:\n",
    "    result = conn.execute(stmt)\n",
    "    conn.commit()"
   ]
  },
  {
   "cell_type": "code",
   "execution_count": 53,
   "id": "083b8ce9-a8da-4801-b819-0ce00e2d5cb2",
   "metadata": {},
   "outputs": [
    {
     "data": {
      "text/plain": [
       "[(datetime.datetime(2024, 7, 8, 12, 7, 28, 13392), datetime.timedelta(seconds=10800))]"
      ]
     },
     "execution_count": 53,
     "metadata": {},
     "output_type": "execute_result"
    }
   ],
   "source": [
    "res = list(result)\n",
    "res"
   ]
  },
  {
   "cell_type": "code",
   "execution_count": 24,
   "id": "30f28fbf-b0a0-4390-b6b1-6573e8532d3d",
   "metadata": {},
   "outputs": [],
   "source": [
    "dt = res[0][0]"
   ]
  },
  {
   "cell_type": "code",
   "execution_count": 26,
   "id": "bbacbfa5-adbe-4980-81f2-9f545a956ac3",
   "metadata": {},
   "outputs": [
    {
     "data": {
      "text/plain": [
       "True"
      ]
     },
     "execution_count": 26,
     "metadata": {},
     "output_type": "execute_result"
    }
   ],
   "source": [
    "dt.tzinfo is None"
   ]
  },
  {
   "cell_type": "code",
   "execution_count": null,
   "id": "bf1b48d0-5cb0-47e5-b124-96a90c88dfe9",
   "metadata": {},
   "outputs": [],
   "source": []
  },
  {
   "cell_type": "code",
   "execution_count": 15,
   "id": "a7a5cc46-ceca-40e9-9796-278feeacb1f9",
   "metadata": {},
   "outputs": [
    {
     "data": {
      "text/plain": [
       "(2,)"
      ]
     },
     "execution_count": 15,
     "metadata": {},
     "output_type": "execute_result"
    }
   ],
   "source": [
    "result.inserted_primary_key"
   ]
  },
  {
   "cell_type": "code",
   "execution_count": 23,
   "id": "325c43e1-62f1-436b-aeeb-65a8b0188938",
   "metadata": {},
   "outputs": [
    {
     "name": "stdout",
     "output_type": "stream",
     "text": [
      "2024-07-04 12:47:19,016 INFO sqlalchemy.engine.Engine BEGIN (implicit)\n",
      "2024-07-04 12:47:19,016 INFO sqlalchemy.engine.Engine INSERT INTO user_account (id, name, fullname) VALUES (?, ?, ?)\n",
      "2024-07-04 12:47:19,017 INFO sqlalchemy.engine.Engine [cached since 15.82s ago] [(3, 'sandy', 'Sandy Cheeks'), (4, 'patrick', 'Patrick Star')]\n",
      "2024-07-04 12:47:19,018 INFO sqlalchemy.engine.Engine COMMIT\n"
     ]
    }
   ],
   "source": [
    "with engine.connect() as conn:\n",
    "    result = conn.execute(\n",
    "        insert(user_table),\n",
    "        [\n",
    "            {'id': 3, \"name\": \"sandy\", \"fullname\": \"Sandy Cheeks\"},\n",
    "            {'id': 4, \"name\": \"patrick\", \"fullname\": \"Patrick Star\"},\n",
    "        ],\n",
    "    )\n",
    "    conn.commit()"
   ]
  },
  {
   "cell_type": "code",
   "execution_count": 24,
   "id": "35ef4750-4b98-490d-b9c4-8ff46a2d3586",
   "metadata": {},
   "outputs": [
    {
     "name": "stdout",
     "output_type": "stream",
     "text": [
      "2024-07-04 12:54:30,951 INFO sqlalchemy.engine.Engine BEGIN (implicit)\n",
      "2024-07-04 12:54:30,952 INFO sqlalchemy.engine.Engine INSERT INTO address (user_id, email_address) VALUES ((SELECT user_account.id \n",
      "FROM user_account \n",
      "WHERE user_account.name = ?), ?)\n",
      "2024-07-04 12:54:30,953 INFO sqlalchemy.engine.Engine [generated in 0.00153s] [('spongebob', 'spongebob@sqlalchemy.org'), ('sandy', 'sandy@sqlalchemy.org'), ('sandy', 'sandy@squirrelpower.org')]\n",
      "2024-07-04 12:54:30,954 INFO sqlalchemy.engine.Engine COMMIT\n"
     ]
    }
   ],
   "source": [
    "from sqlalchemy import select, bindparam\n",
    "scalar_subq = (\n",
    "    select(user_table.c.id)\n",
    "    .where(user_table.c.name == bindparam(\"username\"))\n",
    "    .scalar_subquery()\n",
    ")\n",
    "\n",
    "with engine.connect() as conn:\n",
    "    result = conn.execute(\n",
    "        insert(address_table).values(user_id=scalar_subq),\n",
    "        [\n",
    "            {\n",
    "                \"username\": \"spongebob\",\n",
    "                \"email_address\": \"spongebob@sqlalchemy.org\",\n",
    "            },\n",
    "            {\"username\": \"sandy\", \"email_address\": \"sandy@sqlalchemy.org\"},\n",
    "            {\"username\": \"sandy\", \"email_address\": \"sandy@squirrelpower.org\"},\n",
    "        ],\n",
    "    )\n",
    "    conn.commit()"
   ]
  },
  {
   "cell_type": "code",
   "execution_count": 26,
   "id": "21c22eb9-4800-477c-a259-23a113b1603d",
   "metadata": {},
   "outputs": [],
   "source": [
    "stmt = select(user_table).where(user_table.c.name == \"spongebob\")"
   ]
  },
  {
   "cell_type": "code",
   "execution_count": 28,
   "id": "38e741cc-c84b-4426-8f2b-c48f92d310f2",
   "metadata": {},
   "outputs": [
    {
     "name": "stdout",
     "output_type": "stream",
     "text": [
      "2024-07-04 13:06:33,303 INFO sqlalchemy.engine.Engine BEGIN (implicit)\n",
      "2024-07-04 13:06:33,304 INFO sqlalchemy.engine.Engine SELECT user_account.id, user_account.name, user_account.fullname \n",
      "FROM user_account \n",
      "WHERE user_account.name = ?\n",
      "2024-07-04 13:06:33,305 INFO sqlalchemy.engine.Engine [cached since 30.57s ago] ('spongebob',)\n",
      "2\n",
      "2024-07-04 13:06:33,305 INFO sqlalchemy.engine.Engine ROLLBACK\n"
     ]
    }
   ],
   "source": [
    "with engine.connect() as conn:\n",
    "    for row in conn.execute(stmt):\n",
    "        print(row.id)"
   ]
  },
  {
   "cell_type": "code",
   "execution_count": 29,
   "id": "75995510-daa8-49f3-a2a7-d6325d8d862c",
   "metadata": {},
   "outputs": [
    {
     "name": "stdout",
     "output_type": "stream",
     "text": [
      "SELECT user_account.name, user_account.fullname \n",
      "FROM user_account\n"
     ]
    }
   ],
   "source": [
    "print(select(user_table.c.name, user_table.c.fullname))"
   ]
  },
  {
   "cell_type": "code",
   "execution_count": 30,
   "id": "f804c8f2-aed1-4223-81ec-be9bb9565ef6",
   "metadata": {},
   "outputs": [
    {
     "name": "stdout",
     "output_type": "stream",
     "text": [
      "SELECT user_account.name \n",
      "FROM user_account\n"
     ]
    }
   ],
   "source": [
    "print(select(user_table.c.name))"
   ]
  },
  {
   "cell_type": "code",
   "execution_count": 31,
   "id": "fa60b24b-cce0-400c-8881-85f337f41798",
   "metadata": {},
   "outputs": [
    {
     "name": "stdout",
     "output_type": "stream",
     "text": [
      "SELECT user_account.name, address.email_address \n",
      "FROM user_account, address\n"
     ]
    }
   ],
   "source": [
    "print(select(user_table.c.name, address_table.c.email_address))"
   ]
  },
  {
   "cell_type": "code",
   "execution_count": null,
   "id": "7455a678-f2ed-4c2f-ad6c-c265a39f2ab2",
   "metadata": {},
   "outputs": [],
   "source": []
  }
 ],
 "metadata": {
  "kernelspec": {
   "display_name": "Python 3 (ipykernel)",
   "language": "python",
   "name": "python3"
  },
  "language_info": {
   "codemirror_mode": {
    "name": "ipython",
    "version": 3
   },
   "file_extension": ".py",
   "mimetype": "text/x-python",
   "name": "python",
   "nbconvert_exporter": "python",
   "pygments_lexer": "ipython3",
   "version": "3.11.9"
  }
 },
 "nbformat": 4,
 "nbformat_minor": 5
}
